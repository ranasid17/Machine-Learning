{
  "nbformat": 4,
  "nbformat_minor": 0,
  "metadata": {
    "colab": {
      "name": "homework03.ipynb",
      "provenance": []
    },
    "kernelspec": {
      "name": "python3",
      "display_name": "Python 3"
    },
    "language_info": {
      "name": "python"
    }
  },
  "cells": [
    {
      "cell_type": "code",
      "metadata": {
        "id": "DyT2aEJT4ZBe"
      },
      "source": [
        "import numpy as np \n",
        "import pandas as pd \n",
        "import matplotlib.pyplot as plt\n",
        "from sklearn.model_selection import train_test_split\n",
        "from sklearn import tree\n",
        "from sklearn.metrics import accuracy_score\n",
        "from sklearn.metrics import confusion_matrix\n",
        "from sklearn.metrics import classification_report\n",
        "from sklearn.metrics import precision_score\n",
        "from sklearn.metrics import classification_report\n"
      ],
      "execution_count": null,
      "outputs": []
    },
    {
      "cell_type": "code",
      "metadata": {
        "colab": {
          "base_uri": "https://localhost:8080/",
          "height": 204
        },
        "id": "MeJIfAriRUe-",
        "outputId": "2983336f-bf9b-47f3-f6d9-a1b9ecde8eee"
      },
      "source": [
        "# Question 3\n",
        "# Part I-III\n",
        "\n",
        "# import data and reset col names \n",
        "data = pd.read_csv('/content/car.data')\n",
        "data.columns=['buying', 'maint', 'doors', 'persons', 'lug boot', 'safety', 'label']\n",
        "\n",
        "data.head()"
      ],
      "execution_count": null,
      "outputs": [
        {
          "output_type": "execute_result",
          "data": {
            "text/html": [
              "<div>\n",
              "<style scoped>\n",
              "    .dataframe tbody tr th:only-of-type {\n",
              "        vertical-align: middle;\n",
              "    }\n",
              "\n",
              "    .dataframe tbody tr th {\n",
              "        vertical-align: top;\n",
              "    }\n",
              "\n",
              "    .dataframe thead th {\n",
              "        text-align: right;\n",
              "    }\n",
              "</style>\n",
              "<table border=\"1\" class=\"dataframe\">\n",
              "  <thead>\n",
              "    <tr style=\"text-align: right;\">\n",
              "      <th></th>\n",
              "      <th>buying</th>\n",
              "      <th>maint</th>\n",
              "      <th>doors</th>\n",
              "      <th>persons</th>\n",
              "      <th>lug boot</th>\n",
              "      <th>safety</th>\n",
              "      <th>label</th>\n",
              "    </tr>\n",
              "  </thead>\n",
              "  <tbody>\n",
              "    <tr>\n",
              "      <th>0</th>\n",
              "      <td>vhigh</td>\n",
              "      <td>vhigh</td>\n",
              "      <td>2</td>\n",
              "      <td>2</td>\n",
              "      <td>small</td>\n",
              "      <td>med</td>\n",
              "      <td>unacc</td>\n",
              "    </tr>\n",
              "    <tr>\n",
              "      <th>1</th>\n",
              "      <td>vhigh</td>\n",
              "      <td>vhigh</td>\n",
              "      <td>2</td>\n",
              "      <td>2</td>\n",
              "      <td>small</td>\n",
              "      <td>high</td>\n",
              "      <td>unacc</td>\n",
              "    </tr>\n",
              "    <tr>\n",
              "      <th>2</th>\n",
              "      <td>vhigh</td>\n",
              "      <td>vhigh</td>\n",
              "      <td>2</td>\n",
              "      <td>2</td>\n",
              "      <td>med</td>\n",
              "      <td>low</td>\n",
              "      <td>unacc</td>\n",
              "    </tr>\n",
              "    <tr>\n",
              "      <th>3</th>\n",
              "      <td>vhigh</td>\n",
              "      <td>vhigh</td>\n",
              "      <td>2</td>\n",
              "      <td>2</td>\n",
              "      <td>med</td>\n",
              "      <td>med</td>\n",
              "      <td>unacc</td>\n",
              "    </tr>\n",
              "    <tr>\n",
              "      <th>4</th>\n",
              "      <td>vhigh</td>\n",
              "      <td>vhigh</td>\n",
              "      <td>2</td>\n",
              "      <td>2</td>\n",
              "      <td>med</td>\n",
              "      <td>high</td>\n",
              "      <td>unacc</td>\n",
              "    </tr>\n",
              "  </tbody>\n",
              "</table>\n",
              "</div>"
            ],
            "text/plain": [
              "  buying  maint doors persons lug boot safety  label\n",
              "0  vhigh  vhigh     2       2    small    med  unacc\n",
              "1  vhigh  vhigh     2       2    small   high  unacc\n",
              "2  vhigh  vhigh     2       2      med    low  unacc\n",
              "3  vhigh  vhigh     2       2      med    med  unacc\n",
              "4  vhigh  vhigh     2       2      med   high  unacc"
            ]
          },
          "metadata": {},
          "execution_count": 66
        }
      ]
    },
    {
      "cell_type": "code",
      "metadata": {
        "colab": {
          "base_uri": "https://localhost:8080/",
          "height": 204
        },
        "id": "0qsJbC95Mfcp",
        "outputId": "d228f1c0-22fd-49d5-f7d3-db112cc374b9"
      },
      "source": [
        "# Question 3\n",
        "# Part IV: loading\n",
        "\n",
        "# create copy of original dataframe \n",
        "data_numeric = data.copy()\n",
        "# convert dataframe copy to numerical data type \n",
        "data_numeric['buying'] = pd.Categorical(data_numeric['buying']).codes\n",
        "data_numeric['maint'] = pd.Categorical(data_numeric['maint']).codes\n",
        "data_numeric['doors'] = pd.Categorical(data_numeric['doors']).codes\n",
        "data_numeric['persons'] = pd.Categorical(data_numeric['persons']).codes\n",
        "data_numeric['lug boot'] = pd.Categorical(data_numeric['lug boot']).codes\n",
        "data_numeric['safety'] = pd.Categorical(data_numeric['safety']).codes \n",
        "data_numeric['label'] = pd.Categorical(data_numeric['label']).codes\n",
        "# confirm data types of each col \n",
        "data_numeric.head()\n",
        "#data_numeric.info()"
      ],
      "execution_count": null,
      "outputs": [
        {
          "output_type": "execute_result",
          "data": {
            "text/html": [
              "<div>\n",
              "<style scoped>\n",
              "    .dataframe tbody tr th:only-of-type {\n",
              "        vertical-align: middle;\n",
              "    }\n",
              "\n",
              "    .dataframe tbody tr th {\n",
              "        vertical-align: top;\n",
              "    }\n",
              "\n",
              "    .dataframe thead th {\n",
              "        text-align: right;\n",
              "    }\n",
              "</style>\n",
              "<table border=\"1\" class=\"dataframe\">\n",
              "  <thead>\n",
              "    <tr style=\"text-align: right;\">\n",
              "      <th></th>\n",
              "      <th>buying</th>\n",
              "      <th>maint</th>\n",
              "      <th>doors</th>\n",
              "      <th>persons</th>\n",
              "      <th>lug boot</th>\n",
              "      <th>safety</th>\n",
              "      <th>label</th>\n",
              "    </tr>\n",
              "  </thead>\n",
              "  <tbody>\n",
              "    <tr>\n",
              "      <th>0</th>\n",
              "      <td>3</td>\n",
              "      <td>3</td>\n",
              "      <td>0</td>\n",
              "      <td>0</td>\n",
              "      <td>2</td>\n",
              "      <td>2</td>\n",
              "      <td>2</td>\n",
              "    </tr>\n",
              "    <tr>\n",
              "      <th>1</th>\n",
              "      <td>3</td>\n",
              "      <td>3</td>\n",
              "      <td>0</td>\n",
              "      <td>0</td>\n",
              "      <td>2</td>\n",
              "      <td>0</td>\n",
              "      <td>2</td>\n",
              "    </tr>\n",
              "    <tr>\n",
              "      <th>2</th>\n",
              "      <td>3</td>\n",
              "      <td>3</td>\n",
              "      <td>0</td>\n",
              "      <td>0</td>\n",
              "      <td>1</td>\n",
              "      <td>1</td>\n",
              "      <td>2</td>\n",
              "    </tr>\n",
              "    <tr>\n",
              "      <th>3</th>\n",
              "      <td>3</td>\n",
              "      <td>3</td>\n",
              "      <td>0</td>\n",
              "      <td>0</td>\n",
              "      <td>1</td>\n",
              "      <td>2</td>\n",
              "      <td>2</td>\n",
              "    </tr>\n",
              "    <tr>\n",
              "      <th>4</th>\n",
              "      <td>3</td>\n",
              "      <td>3</td>\n",
              "      <td>0</td>\n",
              "      <td>0</td>\n",
              "      <td>1</td>\n",
              "      <td>0</td>\n",
              "      <td>2</td>\n",
              "    </tr>\n",
              "  </tbody>\n",
              "</table>\n",
              "</div>"
            ],
            "text/plain": [
              "   buying  maint  doors  persons  lug boot  safety  label\n",
              "0       3      3      0        0         2       2      2\n",
              "1       3      3      0        0         2       0      2\n",
              "2       3      3      0        0         1       1      2\n",
              "3       3      3      0        0         1       2      2\n",
              "4       3      3      0        0         1       0      2"
            ]
          },
          "metadata": {},
          "execution_count": 67
        }
      ]
    },
    {
      "cell_type": "code",
      "metadata": {
        "colab": {
          "base_uri": "https://localhost:8080/",
          "height": 314
        },
        "id": "O18qtD4_PD1o",
        "outputId": "4bb5cf51-a98b-4bf4-c679-c0caa866d843"
      },
      "source": [
        "# Question 3 \n",
        "# Part V: visualization\n",
        "\n",
        "fig, axes = plt.subplots(3, 3, sharex=False, sharey= False, tight_layout=True)\n",
        "\n",
        "axes[0,0].hist(x=data_numeric['buying'])\n",
        "axes[0,0].set_title('Buying')\n",
        "axes[0,1].hist(x=data_numeric['maint'])\n",
        "axes[0,1].set_title('Maint')\n",
        "axes[0,2].hist(x=data_numeric['doors'])\n",
        "axes[0,2].set_title('Doors')\n",
        "axes[1,0].hist(x=data_numeric['persons'])\n",
        "axes[1,0].set_title('Persons')\n",
        "axes[1,1].hist(x=data_numeric['lug boot'])\n",
        "axes[1,1].set_title('Lug Boot')\n",
        "axes[1,2].hist(x=data_numeric['safety'])\n",
        "axes[1,2].set_title('Safety')\n",
        "axes[2,1].hist(x=data_numeric['label'])\n",
        "axes[2,1].set_title('Label')"
      ],
      "execution_count": null,
      "outputs": [
        {
          "output_type": "execute_result",
          "data": {
            "text/plain": [
              "Text(0.5, 1.0, 'Label')"
            ]
          },
          "metadata": {},
          "execution_count": 68
        },
        {
          "output_type": "display_data",
          "data": {
            "image/png": "[encoded data removed]",
            "text/plain": [
              "<Figure size 432x288 with 9 Axes>"
            ]
          },
          "metadata": {
            "needs_background": "light"
          }
        }
      ]
    },
    {
      "cell_type": "code",
      "metadata": {
        "id": "R2D5E43HTwZl"
      },
      "source": [
        "# Question 3 \n",
        "# Part VI: training/test split \n",
        "\n",
        "# split data into X and y \n",
        "X = data_numeric.iloc[:,0:6]\n",
        "y = data_numeric.iloc[:,-1]\n",
        "\n",
        "# split training/test data 80:20 using sklearn \n",
        "car_train_X, car_test_X, car_train_y, car_test_y = train_test_split(X, y, test_size=0.2, random_state=42)\n"
      ],
      "execution_count": null,
      "outputs": []
    },
    {
      "cell_type": "code",
      "metadata": {
        "colab": {
          "base_uri": "https://localhost:8080/",
          "height": 401
        },
        "id": "zkbLpz5KZF5R",
        "outputId": "cb1d2fe5-d93d-49c1-9420-40eae8356abe"
      },
      "source": [
        "# Question 3 \n",
        "# Part VII: train classification model \n",
        "\n",
        "# instantiate decision tree\n",
        "tree_reg = tree.DecisionTreeClassifier(criterion='entropy', max_depth = 3, random_state=42)\n",
        "# train tree\n",
        "tree_reg = tree_reg.fit(car_train_X, car_train_y) \n",
        "\n",
        "\n",
        "# print model output (as requested)\n",
        "tree.plot_tree(tree_reg) "
      ],
      "execution_count": null,
      "outputs": [
        {
          "output_type": "execute_result",
          "data": {
            "text/plain": [
              "[Text(125.55000000000001, 190.26, 'X[3] <= 0.5\\nentropy = 1.19\\nsamples = 1381\\nvalue = [307, 54, 972, 48]'),\n",
              " Text(83.7, 135.9, 'entropy = 0.0\\nsamples = 458\\nvalue = [0, 0, 458, 0]'),\n",
              " Text(167.4, 135.9, 'X[5] <= 0.5\\nentropy = 1.46\\nsamples = 923\\nvalue = [307, 54, 514, 48]'),\n",
              " Text(83.7, 81.53999999999999, 'X[0] <= 2.5\\nentropy = 1.644\\nsamples = 302\\nvalue = [165, 20, 69, 48]'),\n",
              " Text(41.85, 27.180000000000007, 'entropy = 1.639\\nsamples = 225\\nvalue = [127, 20, 30, 48]'),\n",
              " Text(125.55000000000001, 27.180000000000007, 'entropy = 1.0\\nsamples = 77\\nvalue = [38, 0, 39, 0]'),\n",
              " Text(251.10000000000002, 81.53999999999999, 'X[5] <= 1.5\\nentropy = 1.061\\nsamples = 621\\nvalue = [142, 34, 445, 0]'),\n",
              " Text(209.25, 27.180000000000007, 'entropy = 0.0\\nsamples = 308\\nvalue = [0, 0, 308, 0]'),\n",
              " Text(292.95, 27.180000000000007, 'entropy = 1.387\\nsamples = 313\\nvalue = [142, 34, 137, 0]')]"
            ]
          },
          "metadata": {},
          "execution_count": 70
        },
        {
          "output_type": "display_data",
          "data": {
            "image/png": "[encoded data removed]",
            "text/plain": [
              "<Figure size 432x288 with 1 Axes>"
            ]
          },
          "metadata": {
            "needs_background": "light"
          }
        }
      ]
    },
    {
      "cell_type": "code",
      "metadata": {
        "id": "uZRm2XdSevad"
      },
      "source": [
        "# Question 3 \n",
        "# Part VIII: Make predictions \n",
        "\n",
        "# Generate predicted classes using the model object on the training set 'car_train'\n",
        "train_prediction = tree_reg.predict(car_train_X)\n",
        "\n",
        "# Generate predicted classes using the model object on the testing set 'car_test'\n",
        "test_prediction = tree_reg.predict(car_test_X)\n",
        "\n",
        "# Generate predicted probabilities for classes using the model object on the \n",
        "# training set 'car_train': return the probability of a predicted class, \n",
        "# calculated by the fraction of samples of the same class in a leaf.)\n",
        "train_prediction_prob = tree_reg.predict_proba(car_train_X)\n",
        "\n",
        "# Generate predicted probabilities for classes using the model object on the \n",
        "# testing set 'car_test' \n",
        "test_prediction_prob = tree_reg.predict_proba(car_test_X)\n"
      ],
      "execution_count": null,
      "outputs": []
    },
    {
      "cell_type": "code",
      "metadata": {
        "colab": {
          "base_uri": "https://localhost:8080/"
        },
        "id": "OIsoU8EcYfyE",
        "outputId": "922d8174-1f12-4085-8aff-e68778242ee8"
      },
      "source": [
        "# Question 3 \n",
        "# Part IX: evaluate model \n",
        "\n",
        "# Calculate the accuracy score for the train set 'car_train'\n",
        "train_accuracy = accuracy_score(train_prediction, car_train_y)\n",
        "print('Decision tree training accuracy:', train_accuracy)\n",
        "\n",
        "# Calculate the accuracy score for the test set 'car_test'\n",
        "test_accuracy = accuracy_score(test_prediction, car_test_y)\n",
        "print('Decision tree testing accuracy: ', test_accuracy)\n",
        "\n",
        "# Calculate the confusion matrix for the train set 'car_train'\n",
        "train_conf_mtx = confusion_matrix(car_train_y, train_prediction)\n",
        "print('Training confusion matrix : \\n', train_conf_mtx)\n",
        "\n",
        "# Calculate the confusion matrix for the test set 'car_test'\n",
        "train_conf_mtx = confusion_matrix(car_test_y, test_prediction)\n",
        "print('Testing confusion matrix : \\n', train_conf_mtx)\n",
        "\n",
        "# Calculate the precision/recall/f1 score for the train set 'car_train' for each of four classes \n",
        "train_precision = classification_report(car_train_y, train_prediction)\n",
        "print('Precision for Training: \\n', train_precision)\n",
        "\n",
        "# Calculate the precision/recall/f1 score for the test set 'car_test' for each of four classes\n",
        "test_precision = classification_report(car_test_y, test_prediction)\n",
        "print('Precision for Testing: \\n', test_precision)\n"
      ],
      "execution_count": null,
      "outputs": [
        {
          "output_type": "stream",
          "name": "stdout",
          "text": [
            "Decision tree training accuracy: 0.777697320782042\n",
            "Decision trsee testing accuracy:  0.7890173410404624\n",
            "Training confusion matrix : \n",
            " [[269   0  38   0]\n",
            " [ 54   0   0   0]\n",
            " [167   0 805   0]\n",
            " [ 48   0   0   0]]\n",
            "Testing confusion matrix : \n",
            " [[ 69   0   8   0]\n",
            " [ 15   0   0   0]\n",
            " [ 33   0 204   0]\n",
            " [ 17   0   0   0]]\n",
            "Precision for Training: \n",
            "               precision    recall  f1-score   support\n",
            "\n",
            "           0       0.50      0.88      0.64       307\n",
            "           1       0.00      0.00      0.00        54\n",
            "           2       0.95      0.83      0.89       972\n",
            "           3       0.00      0.00      0.00        48\n",
            "\n",
            "    accuracy                           0.78      1381\n",
            "   macro avg       0.36      0.43      0.38      1381\n",
            "weighted avg       0.78      0.78      0.77      1381\n",
            "\n",
            "Precision for Testing: \n",
            "               precision    recall  f1-score   support\n",
            "\n",
            "           0       0.51      0.90      0.65        77\n",
            "           1       0.00      0.00      0.00        15\n",
            "           2       0.96      0.86      0.91       237\n",
            "           3       0.00      0.00      0.00        17\n",
            "\n",
            "    accuracy                           0.79       346\n",
            "   macro avg       0.37      0.44      0.39       346\n",
            "weighted avg       0.77      0.79      0.77       346\n",
            "\n"
          ]
        },
        {
          "output_type": "stream",
          "name": "stderr",
          "text": [
            "/usr/local/lib/python3.7/dist-packages/sklearn/metrics/_classification.py:1272: UndefinedMetricWarning: Precision and F-score are ill-defined and being set to 0.0 in labels with no predicted samples. Use `zero_division` parameter to control this behavior.\n",
            "  _warn_prf(average, modifier, msg_start, len(result))\n"
          ]
        }
      ]
    },
    {
      "cell_type": "code",
      "metadata": {
        "colab": {
          "base_uri": "https://localhost:8080/",
          "height": 401
        },
        "id": "jj_rO8RWH2l8",
        "outputId": "0fb158d5-fa15-419c-8d05-e3ce346c0b4d"
      },
      "source": [
        "# Question 3 \n",
        "# Part X: compare multiple models \n",
        "\n",
        "\n",
        "# Train a model on the new training set 'car_train_new', splitting the tree \n",
        "# based on the Gini index, set any parameters for 'max_depth', and 'max_features'\n",
        "\n",
        "# split training/test data 80:20 using sklearn \n",
        "car_train_X, car_test_X, car_train_y, car_test_y = train_test_split(X, y, test_size=0.2, random_state=42)\n",
        "# split training data 80:20 to create validation set \n",
        "car_train_X_new, car_validation_X, car_train_y_new, car_validation_y = train_test_split(car_train_X, car_train_y, test_size=0.2, random_state=41)\n",
        "\n",
        "# instantiate decision tree (GINI)\n",
        "tree_reg_new = tree.DecisionTreeClassifier(criterion='gini', max_depth = 3, random_state=42)\n",
        "# train tree on new training set \n",
        "tree_reg_new = tree_reg_new.fit(car_train_X_new, car_train_y_new) \n",
        "\n",
        "# print model output (as requested)\n",
        "tree.plot_tree(tree_reg_new) "
      ],
      "execution_count": null,
      "outputs": [
        {
          "output_type": "execute_result",
          "data": {
            "text/plain": [
              "[Text(125.55000000000001, 190.26, 'X[3] <= 0.5\\ngini = 0.468\\nsamples = 1104\\nvalue = [257, 47, 761, 39]'),\n",
              " Text(83.7, 135.9, 'gini = 0.0\\nsamples = 367\\nvalue = [0, 0, 367, 0]'),\n",
              " Text(167.4, 135.9, 'X[5] <= 0.5\\ngini = 0.586\\nsamples = 737\\nvalue = [257, 47, 394, 39]'),\n",
              " Text(83.7, 81.53999999999999, 'X[1] <= 2.5\\ngini = 0.612\\nsamples = 248\\nvalue = [139, 18, 52, 39]'),\n",
              " Text(41.85, 27.180000000000007, 'gini = 0.602\\nsamples = 191\\nvalue = [110, 18, 24, 39]'),\n",
              " Text(125.55000000000001, 27.180000000000007, 'gini = 0.5\\nsamples = 57\\nvalue = [29, 0, 28, 0]'),\n",
              " Text(251.10000000000002, 81.53999999999999, 'X[5] <= 1.5\\ngini = 0.449\\nsamples = 489\\nvalue = [118, 29, 342, 0]'),\n",
              " Text(209.25, 27.180000000000007, 'gini = 0.0\\nsamples = 242\\nvalue = [0, 0, 242, 0]'),\n",
              " Text(292.95, 27.180000000000007, 'gini = 0.594\\nsamples = 247\\nvalue = [118, 29, 100, 0]')]"
            ]
          },
          "metadata": {},
          "execution_count": 73
        },
        {
          "output_type": "display_data",
          "data": {
            "image/png": "[encoded data removed]",
            "text/plain": [
              "<Figure size 432x288 with 1 Axes>"
            ]
          },
          "metadata": {
            "needs_background": "light"
          }
        }
      ]
    },
    {
      "cell_type": "code",
      "metadata": {
        "colab": {
          "base_uri": "https://localhost:8080/",
          "height": 401
        },
        "id": "M6R_1JnQPh75",
        "outputId": "1100d310-efc4-4f44-f5b1-97de03aa64c8"
      },
      "source": [
        "# Question 3 \n",
        "# Part X: compare multiple models (cont) \n",
        "\n",
        "# Train a model on the new training set 'car_train_new', splitting the tree \n",
        "# based on Entropy, set any parameters for 'max_depth', and 'max_features'\n",
        "\n",
        "# instantiate decision tree (entropy)\n",
        "tree_reg_new2 = tree.DecisionTreeClassifier(criterion='entropy', max_depth = 3, random_state=42)\n",
        "# train tree on new training set \n",
        "tree_reg_new2 = tree_reg_new2.fit(car_train_X_new, car_train_y_new) \n",
        "\n",
        "# print model output (as requested)\n",
        "tree.plot_tree(tree_reg_new2) "
      ],
      "execution_count": null,
      "outputs": [
        {
          "output_type": "execute_result",
          "data": {
            "text/plain": [
              "[Text(125.55000000000001, 190.26, 'X[3] <= 0.5\\nentropy = 1.224\\nsamples = 1104\\nvalue = [257, 47, 761, 39]'),\n",
              " Text(83.7, 135.9, 'entropy = 0.0\\nsamples = 367\\nvalue = [0, 0, 367, 0]'),\n",
              " Text(167.4, 135.9, 'X[5] <= 0.5\\nentropy = 1.491\\nsamples = 737\\nvalue = [257, 47, 394, 39]'),\n",
              " Text(83.7, 81.53999999999999, 'X[0] <= 2.5\\nentropy = 1.635\\nsamples = 248\\nvalue = [139, 18, 52, 39]'),\n",
              " Text(41.85, 27.180000000000007, 'entropy = 1.643\\nsamples = 184\\nvalue = [104, 18, 23, 39]'),\n",
              " Text(125.55000000000001, 27.180000000000007, 'entropy = 0.994\\nsamples = 64\\nvalue = [35, 0, 29, 0]'),\n",
              " Text(251.10000000000002, 81.53999999999999, 'X[5] <= 1.5\\nentropy = 1.097\\nsamples = 489\\nvalue = [118, 29, 342, 0]'),\n",
              " Text(209.25, 27.180000000000007, 'entropy = 0.0\\nsamples = 242\\nvalue = [0, 0, 242, 0]'),\n",
              " Text(292.95, 27.180000000000007, 'entropy = 1.4\\nsamples = 247\\nvalue = [118, 29, 100, 0]')]"
            ]
          },
          "metadata": {},
          "execution_count": 74
        },
        {
          "output_type": "display_data",
          "data": {
            "image/png": "[encoded data removed]",
            "text/plain": [
              "<Figure size 432x288 with 1 Axes>"
            ]
          },
          "metadata": {
            "needs_background": "light"
          }
        }
      ]
    },
    {
      "cell_type": "code",
      "metadata": {
        "colab": {
          "base_uri": "https://localhost:8080/"
        },
        "id": "j5S1AM6GRYEC",
        "outputId": "87e19bc3-9862-4d37-cf3a-92c5b623f95c"
      },
      "source": [
        "# Question 3 \n",
        "# Part X: compare multiple models (cont)\n",
        "\n",
        "# Evaluate the predictions based on the classification error on the validation \n",
        "# set using both models.\n",
        "\n",
        "# GINI tree prediction \n",
        "validation_prediction_gini = tree_reg_new.predict(car_validation_X)\n",
        "# Entropy tree prediction\n",
        "validation_prediction_entropy = tree_reg_new2.predict(car_validation_X)\n",
        "\n",
        "# measure GINI accuracy and print result \n",
        "gini_validation_accuracy = accuracy_score(validation_prediction_gini, car_validation_y)\n",
        "print('Gini validation accuracy: \\n', gini_validation_accuracy)\n",
        "# measure entropy accuracy and print result \n",
        "entropy_validation_accuracy = accuracy_score(validation_prediction_entropy, car_validation_y)\n",
        "print('Entropy validation accuracy: \\n', entropy_validation_accuracy)"
      ],
      "execution_count": null,
      "outputs": [
        {
          "output_type": "stream",
          "name": "stdout",
          "text": [
            "Gini validation accuracy: \n",
            " 0.7472924187725631\n",
            "Entropy validation accuracy: \n",
            " 0.7472924187725631\n"
          ]
        }
      ]
    },
    {
      "cell_type": "code",
      "metadata": {
        "colab": {
          "base_uri": "https://localhost:8080/"
        },
        "id": "AgA4H4hLWVqu",
        "outputId": "782104f8-161b-4fb0-ad9a-60cc1d950938"
      },
      "source": [
        "# Question 3 \n",
        "# Part X: compare multiple models (cont)\n",
        "\n",
        "# Compute and compare the test set ('car_test') classification error of the two models.\n",
        "\n",
        "# GINI tree prediction \n",
        "test_prediction_gini = tree_reg_new.predict(car_test_X_new)\n",
        "# entropy tree prediction \n",
        "test_prediction_entropy = tree_reg_new2.predict(car_test_X_new)\n",
        "\n",
        "# measure GINI accuracy and print result \n",
        "gini_test_accuracy = accuracy_score(test_prediction_gini, car_test_y_new)\n",
        "print('Gini test accuracy: \\n', gini_test_accuracy)\n",
        "# measure entropy accuracy and print result \n",
        "entropy_test_accuracy = accuracy_score(test_prediction_entropy, car_test_y_new)\n",
        "print('Entropy test accuracy: \\n', entropy_test_accuracy)\n"
      ],
      "execution_count": null,
      "outputs": [
        {
          "output_type": "stream",
          "name": "stdout",
          "text": [
            "Gini test accuracy: \n",
            " 0.7803468208092486\n",
            "Entropy test accuracy: \n",
            " 0.7803468208092486\n"
          ]
        }
      ]
    }
  ]
}
