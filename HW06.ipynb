{
  "nbformat": 4,
  "nbformat_minor": 0,
  "metadata": {
    "colab": {
      "name": "HW06.ipynb",
      "provenance": []
    },
    "kernelspec": {
      "name": "python3",
      "display_name": "Python 3"
    },
    "language_info": {
      "name": "python"
    }
  },
  "cells": [
    {
      "cell_type": "code",
      "metadata": {
        "id": "cGcncB6Qkk1z"
      },
      "source": [
        "# Part II: Fit logistic regression iris using binary cross entropy cost function\n",
        "from sklearn import datasets\n",
        "import numpy as np \n",
        "from sklearn.model_selection import train_test_split\n",
        "import numpy as np \n",
        "import matplotlib.pyplot as plt\n",
        "\n",
        "class Preprocessing(): \n",
        "\n",
        "  def __init__(self, train_ratio, test_ratio, val_ratio):\n",
        "    ''' Class constructor for Preprocessing. This class holds methods to process\n",
        "        raw input data into training/testing/validation sets for downstream\n",
        "        logistic regression. '''\n",
        "    self.train_ratio =  train_ratio\n",
        "    self.test_ratio = test_ratio\n",
        "    self.val_ratio = val_ratio\n",
        "\n",
        "  \n",
        "  def import_data(self):   \n",
        "    ''' Import iris dataset from SKL '''\n",
        "    iris = datasets.load_iris()  # import iris dataset\n",
        "\n",
        "    features = iris[\"data\"][:, :] # separate features  \n",
        "    labels = (iris[\"target\"] == 2).astype(np.int) # 1 if Iris-Virginica, else 0\n",
        "    \n",
        "    return features, labels\n",
        "\n",
        "\n",
        "  def create_train_set(self, features, labels): \n",
        "    ''' Stratify X, y data into training and testing sets. Want test datasets \n",
        "        to have 10% size of original datasets. '''\n",
        "    # call train_test_split function on original dataset to create train/test\n",
        "    X_train, X_test, y_train, y_test = train_test_split(features, labels, \n",
        "                                                        test_size=self.test_ratio, \n",
        "                                                        random_state=42)\n",
        "    return X_train, X_test, y_train, y_test\n",
        "\n",
        "\n",
        "  def create_validation_set(self, X_train, y_train): \n",
        "    ''' Create validation sets from X_train, y_train input datasets. Validation\n",
        "        set will compose 10% of training sets'''\n",
        "    # call internal variables to definte validation set ratio \n",
        "    val_set_ratio = self.val_ratio / (self.train_ratio + self.test_ratio)\n",
        "    # call train_test_split function on training set to create validation sets\n",
        "    X_train_new, X_val, y_train_new, y_val = train_test_split(X_train, y_train, \n",
        "                                                      test_size=val_set_ratio, \n",
        "                                                      random_state=42)\n",
        "    return X_train_new, X_val, y_train_new, y_val\n",
        "\n"
      ],
      "execution_count": 176,
      "outputs": []
    },
    {
      "cell_type": "code",
      "metadata": {
        "id": "8D_Q_dyAkrRN"
      },
      "source": [
        "class Logistic_Regression: \n",
        "\n",
        "  def sigmoid(x):\n",
        "    ''' activation function - sigmoid '''\n",
        "    return 1/(1 + np.exp(-x))\n",
        "\n",
        "  \n",
        "  def entropy(y, prediction):\n",
        "    ''' loss function: binary cross entropy ''' \n",
        "    loss = -np.mean(y*(np.log(prediction)) - (1-y)*np.log(1-prediction))\n",
        "    return loss\n",
        "\n",
        "  \n",
        "  def mean_square_error(y, prediction): \n",
        "    ''' loss function: mean square error '''\n",
        "    a = y.shape[0]  # store array shape \n",
        "    y = y.reshape(a,1)\n",
        "    loss = np.square(np.subtract(y, prediction)).mean()\n",
        "    return loss\n",
        "\n",
        "\n",
        "  def gradient_entropy(X, y, prediction):\n",
        "    ''' input training array, labels, and predicted value into gradient of \n",
        "        entropy loss function for gradient descent '''\n",
        "    errors = prediction - y  # store prediction error \n",
        "    dw = (1 / len(X)) * np.dot(X.T, errors)  # gradient wrt weights\n",
        "    db = (1 / len(X)) * np.sum((errors))  # gradient wrt bias \n",
        "    \n",
        "    return dw, db\n",
        "\n",
        "  \n",
        "  def gradient_mse(X, y, prediction): \n",
        "\n",
        "    term1 = prediction - y  # short hand for first subtraction term \n",
        "    term2 = 1 - prediction  # short hand for second subtraction term \n",
        "\n",
        "    # update weight gradient \n",
        "    temp1 = np.dot(term1.T, prediction)  # mtx multiply first two terms \n",
        "    temp2 = np.dot(term2.T, X)  # mtx multiply last two terms \n",
        "    dw = (-2 / len(X) ) * np.dot(temp1, temp2)  # update gradient \n",
        "\n",
        "    # update bias gradient \n",
        "    temp3 = np.dot(term1.T, prediction) \n",
        "    temp4 = np.dot(temp3, term2.T) \n",
        "    db = (-2 / len(X) + np.sum(temp4))\n",
        "\n",
        "    return dw.T, db\n",
        "\n",
        "\n",
        "  def train_entropy(X_train, y_train, X_val, y_val, max_iter, learning_rate):\n",
        "    ''' training function for logistic regression. Intakes training datasets \n",
        "        (X and y), validation datasets (X and y), number of training epochs \n",
        "        (maximum number of training iterations), and learning rate (step size \n",
        "        for gradient descent). Outputs 3 arrays containing final weights, bias,\n",
        "        and losses from each epoch.'''\n",
        "    tolerance = 0.02\n",
        "    m, n = X_train.shape  # store [num training instances, num features]\n",
        "  \n",
        "    w = np.zeros((n,1))  # initialize weights to 0 \n",
        "    b = 0  # initialize bias to 0 \n",
        "    \n",
        "    y_train = y_train.reshape(m,1)  # define y second dimension \n",
        "    losses = []  # initialize empty list to hold loss outputs\n",
        "\n",
        "    for i in range(max_iter):  # limit training by number of epochs \n",
        "      # calculate weighted sum of inputs\n",
        "      weighted_sum = np.dot(X_train,w) + b  \n",
        "      # pass weighted sum into activation function to return prediction\n",
        "      prediction = Logistic_Regression.sigmoid(weighted_sum)  \n",
        "\n",
        "      # calculate gradients based on prediction\n",
        "      dw, db = Logistic_Regression.gradient_entropy(X_train, y_train, \n",
        "                                                    prediction)  \n",
        "      # Update weights and bias \n",
        "      w = w - (learning_rate * dw)\n",
        "      b = b - (learning_rate* db)\n",
        "\n",
        "      ## repeat weighted sum, prediction calculation using validation set \n",
        "      validation_sum = np.dot(X_val,w) + b\n",
        "      validation_prediction = Logistic_Regression.sigmoid(validation_sum)\n",
        "      # calculate loss using validation set and append to list \n",
        "      loss = Logistic_Regression.entropy(y_val, validation_prediction)\n",
        "      losses.append(loss)\n",
        "\n",
        "      if i > 10:  # minimum number of training iterations \n",
        "        term_cond_1 = losses[i]-losses[i-1] # check if loss increased \n",
        "        term_cond_2 = losses[i-1]-losses[i-2]  # check if loss increased again\n",
        "        if term_cond_1 < tolerance and term_cond_2 < tolerance:  # early\n",
        "            break\n",
        "    \n",
        "    return w, b, losses\n",
        "\n",
        "  def train_mse(X_train, y_train, X_val, y_val, max_iter, learning_rate):\n",
        "    ''' training function for logistic regression. Intakes training datasets \n",
        "        (X and y), validation datasets (X and y), number of training epochs \n",
        "        (maximum number of training iterations), and learning rate (step size \n",
        "        for gradient descent). Outputs 3 arrays containing final weights, bias,\n",
        "        and losses from each epoch.'''\n",
        "    tolerance = 0.02\n",
        "    m, n = X_train.shape  # store [num training instances, num features]\n",
        "  \n",
        "    w = np.zeros((n,1))  # initialize weights to 0 \n",
        "    b = 0  # initialize bias to 0 \n",
        "    \n",
        "    y_train = y_train.reshape(m,1)  # define y second dimension \n",
        "    losses = []  # initialize empty list to hold loss outputs\n",
        "\n",
        "    for i in range(max_iter):  # limit training by number of epochs \n",
        "      # calculate weighted sum of inputs\n",
        "      weighted_sum = np.dot(X_train,w) + b  \n",
        "      # pass weighted sum into activation function to return prediction\n",
        "      prediction = Logistic_Regression.sigmoid(weighted_sum)  \n",
        "\n",
        "      # calculate gradients based on prediction\n",
        "      dw, db = Logistic_Regression.gradient_mse(X_train, y_train, prediction)  \n",
        "      # Update weights and bias \n",
        "      w = w - (learning_rate * dw)\n",
        "      b = b - (learning_rate* db)\n",
        "\n",
        "      ## repeat weighted sum, prediction calculation using validation set \n",
        "      validation_sum = np.dot(X_val,w) + b\n",
        "      validation_prediction = Logistic_Regression.sigmoid(validation_sum)\n",
        "      # calculate loss using validation set and append to list \n",
        "      loss = Logistic_Regression.mean_square_error(y_val, validation_prediction)\n",
        "      losses.append(loss)\n",
        "\n",
        "      if i > 10:  # minimum number of training iterations \n",
        "        term_cond_1 = losses[i]-losses[i-1] # check if loss increased \n",
        "        term_cond_2 = losses[i-1]-losses[i-2]  # check if loss increased again\n",
        "        if term_cond_1 < tolerance and term_cond_2 < tolerance:  # early\n",
        "            break\n",
        "    \n",
        "    return w, b, losses\n",
        "\n",
        "  \n",
        "  def predicted_output(X, weights, bias): \n",
        "    ''' Only run this function after completed training. Accepts input dataset\n",
        "        of instances, trained weights and bias. Outputs predictions between \n",
        "        [0,1] and labels [0 or 1]'''\n",
        "    # calculate weighted sum of inputs\n",
        "    weighted_sum = np.dot(X,weights) + bias  \n",
        "    # pass weighted sum into activation function to return prediction\n",
        "    predictions = Logistic_Regression.sigmoid(weighted_sum)  \n",
        "\n",
        "    labels = np.zeros((len(X),1))  # initialize array to hold predicted labels  \n",
        "    for i in range(len(predictions)):  # iter across predicted values \n",
        "      if predictions[i] > 0.5:  # check for predictions >0.5\n",
        "        labels[i] = 1  # set label ==1 for given predictions \n",
        "\n",
        "    return predictions, labels\n",
        "\n",
        "\n",
        "  def plot_loss_epochs(losses): \n",
        "    ''' Plot training loss outputs against number of epochs '''\n",
        "    x = np.arange(0, len(losses))  # create array [0,epochs] to set x axis bounds\n",
        "    y = losses  # store losses as y for plotting purposes \n",
        "    plt.plot(x, y, color = 'k')\n",
        "    plt.xlabel('Number of Training Epochs')\n",
        "    plt.ylabel('Validation Set Loss')\n",
        "    plt.title('Training Loss Over Multiple Epochs')\n",
        "    plt.xlim(0,len(losses))\n",
        "    return  # null return \n",
        "\n",
        "  \n",
        "  def accuracy(predictions, labels): \n",
        "    a = labels.shape[0]\n",
        "    labels = labels.reshape(a,1)\n",
        "\n",
        "    errors = np.absolute(predictions - labels)  # find elt-wise differences\n",
        "    sum_errors = np.sum(errors)  # only wrong predictions will have +1 value\n",
        "    avg = sum_errors / len(errors)  # divide sum by total number of predictions \n",
        "    percent_correct = 1 - avg\n",
        "    return percent_correct\n"
      ],
      "execution_count": 185,
      "outputs": []
    },
    {
      "cell_type": "code",
      "metadata": {
        "id": "z-7ZuQBDkmcF"
      },
      "source": [
        "# instantiate Preprocessing class instance  \n",
        "Processor = Preprocessing(train_ratio=0.8, test_ratio=0.1, val_ratio=0.1)\n",
        "# import Iris data set and store into X and y matrices \n",
        "X, y = Processor.import_data()   \n",
        "# split X, y input datasets into training and testing sets (90:10)\n",
        "X_train_set, X_test, y_train_set, y_test = Processor.create_train_set(X,y)  \n",
        "# split training dataset into training and validation sets (90:10)\n",
        "X_train, X_val, y_train, y_val = Processor.create_validation_set(X_train_set, \n",
        "                                                                 y_train_set)\n",
        "# train logistic regressor \n",
        "trained_weights, trained_bias, loss = Logistic_Regression.train_entropy(X_train, \n",
        "                                                                y_train, X_val, \n",
        "                                                                y_val, 50, 0.1)\n",
        "# predict labels for test data using trained regressor \n",
        "test_predictions, predicted_labels = Logistic_Regression.predicted_output(X_test,trained_weights, trained_bias)\n",
        "\n"
      ],
      "execution_count": 186,
      "outputs": []
    },
    {
      "cell_type": "code",
      "metadata": {
        "colab": {
          "base_uri": "https://localhost:8080/"
        },
        "id": "V6iutY371Crf",
        "outputId": "64cd7999-837e-4ca7-9ebe-e1cf9ce72258"
      },
      "source": [
        "## Question 1: Split data 80/10/10 train/validation/test and report numbers\n",
        "\n",
        "print('Number of training samples:', len(X_train))\n",
        "print('Number of validation samples:', len(X_val))\n",
        "print('Number of testing samples:', len(X_test))"
      ],
      "execution_count": 187,
      "outputs": [
        {
          "output_type": "stream",
          "name": "stdout",
          "text": [
            "Number of training samples: 119\n",
            "Number of validation samples: 16\n",
            "Number of testing samples: 15\n"
          ]
        }
      ]
    },
    {
      "cell_type": "code",
      "metadata": {
        "colab": {
          "base_uri": "https://localhost:8080/",
          "height": 349
        },
        "id": "9lCmvAdL5u_T",
        "outputId": "4d5111c9-4fd6-4a1a-ea6a-53ffcd14c184"
      },
      "source": [
        "## Question 2: Visualize learning curve for loss and epochs during training\n",
        "Logistic_Regression.plot_loss_epochs(loss) \n",
        "\n",
        "''' Note: Since early termination condition does not initiate until at least \n",
        "          10 epochs of training have occurred, an increase in loss prior to \n",
        "          10th iteration will not result in early termination. I did this purely\n",
        "          for the purpose of showing > 3-4 epochs on the graph. Without the \n",
        "          minimum iterations condition, training terminates after 4 epochs. '''"
      ],
      "execution_count": 188,
      "outputs": [
        {
          "output_type": "execute_result",
          "data": {
            "application/vnd.google.colaboratory.intrinsic+json": {
              "type": "string"
            },
            "text/plain": [
              "' Note: Since early termination condition does not initiate until at least \\n          10 epochs of training have occurred, an increase in loss prior to \\n          10th iteration will not result in early termination. I did this purely\\n          for the purpose of showing > 3-4 epochs on the graph. Without the \\n          minimum iterations condition, training terminates after 4 epochs. '"
            ]
          },
          "metadata": {},
          "execution_count": 188
        },
        {
          "output_type": "display_data",
          "data": {
            "image/png": "[encoded data removed]",
            "text/plain": [
              "<Figure size 432x288 with 1 Axes>"
            ]
          },
          "metadata": {
            "needs_background": "light"
          }
        }
      ]
    },
    {
      "cell_type": "code",
      "metadata": {
        "id": "TwOnoQhB6XMA",
        "colab": {
          "base_uri": "https://localhost:8080/"
        },
        "outputId": "1ebe6a48-faa9-4387-cf53-1040cbbc4ce9"
      },
      "source": [
        "## Question 3: Accuracy on training, validation, and testing dataset \n",
        "\n",
        "# predict labels for test/valid/train data using trained regressor \n",
        "predictions_test, labels_test = Logistic_Regression.predicted_output(X_test,trained_weights, trained_bias)\n",
        "predictions_valid, labels_valid = Logistic_Regression.predicted_output(X_val,trained_weights, trained_bias)\n",
        "predictions_train, labels_train = Logistic_Regression.predicted_output(X_train,trained_weights, trained_bias)\n",
        "# calculate accuracies for train/valid/test datasets \n",
        "accuracy_train = Logistic_Regression.accuracy(labels_test, y_test)\n",
        "accuracy_valid = Logistic_Regression.accuracy(labels_valid, y_val)\n",
        "accuracy_test = Logistic_Regression.accuracy(labels_train, y_train)\n",
        "\n",
        "print('Training accuracy:', accuracy_train)\n",
        "print('Validation accuracy:', accuracy_valid)\n",
        "print('Testing accuracy:', accuracy_test)"
      ],
      "execution_count": 196,
      "outputs": [
        {
          "output_type": "stream",
          "name": "stdout",
          "text": [
            "Training accuracy: 0.8666666666666667\n",
            "Validation accuracy: 1.0\n",
            "Testing accuracy: 0.9495798319327731\n"
          ]
        }
      ]
    },
    {
      "cell_type": "code",
      "metadata": {
        "colab": {
          "base_uri": "https://localhost:8080/"
        },
        "id": "6WXk67LXlQX9",
        "outputId": "45916507-6d01-4787-c124-cb3e645507fa"
      },
      "source": [
        "## Question 4: Comparison to SKL logistic regressor \n",
        "\n",
        "from sklearn.linear_model import LogisticRegression\n",
        "\n",
        "# instantiate Preprocessing class instance (repeated from above)\n",
        "Processor = Preprocessing(train_ratio=0.8, test_ratio=0.1, val_ratio=0.1)\n",
        "X, y = Processor.import_data()   \n",
        "X_train_set, X_test, y_train_set, y_test = Processor.create_train_set(X,y)  \n",
        "X_train, X_val, y_train, y_val = Processor.create_validation_set(X_train_set, \n",
        "                                                                 y_train_set)\n",
        "\n",
        "clf = LogisticRegression()  # instantiate log reg instance\n",
        "clf.fit(X_train, y_train)  # fit to training data\n",
        "\n",
        "# predict labels for train/validation/test data sets \n",
        "predictions_train = clf.predict(X_train)\n",
        "predictions_val = clf.predict(X_val)  \n",
        "predictions_test = clf.predict(X_test)\n",
        "# accuracy scores for train/validation/test data sets \n",
        "accuracy_train = clf.score(X_train, y_train)\n",
        "accuracy_valid = clf.score(X_val, y_val)\n",
        "accuracy_test = clf.score(X_test, y_test)\n",
        "\n",
        "print('SKL training accuracy:', accuracy_train)\n",
        "print('SKL validation accuracy:', accuracy_valid)\n",
        "print('SKL testing accuracy:', accuracy_test)"
      ],
      "execution_count": 197,
      "outputs": [
        {
          "output_type": "stream",
          "name": "stdout",
          "text": [
            "SKL training accuracy: 0.9747899159663865\n",
            "SKL validation accuracy: 1.0\n",
            "SKL testing accuracy: 1.0\n"
          ]
        }
      ]
    },
    {
      "cell_type": "code",
      "metadata": {
        "id": "T1GuyEtCqJGY"
      },
      "source": [
        "# instantiate Preprocessing class instance  \n",
        "Processor = Preprocessing(train_ratio=0.8, test_ratio=0.1, val_ratio=0.1)\n",
        "# import Iris data set and store into X and y matrices \n",
        "X, y = Processor.import_data()   \n",
        "# split X, y input datasets into training and testing sets (90:10)\n",
        "X_train_set, X_test, y_train_set, y_test = Processor.create_train_set(X,y)  \n",
        "# split training dataset into training and validation sets (90:10)\n",
        "X_train, X_val, y_train, y_val = Processor.create_validation_set(X_train_set, \n",
        "                                                                 y_train_set)\n",
        "# train logistic regressor using MSE\n",
        "trained_weights2, trained_bias2, loss2 = Logistic_Regression.train_mse(X_train, \n",
        "                                                                y_train, X_val, \n",
        "                                                                y_val, 50, 0.1)\n"
      ],
      "execution_count": 198,
      "outputs": []
    },
    {
      "cell_type": "code",
      "metadata": {
        "colab": {
          "base_uri": "https://localhost:8080/",
          "height": 349
        },
        "id": "y6sk8Q-tr-g2",
        "outputId": "3b556058-aa3b-4b12-83f2-69fc2728b98f"
      },
      "source": [
        "## Question 5: Visualize learning curve for loss and epochs during training\n",
        "Logistic_Regression.plot_loss_epochs(loss2) \n",
        "\n",
        "''' Note: Since early termination condition does not initiate until at least \n",
        "10 epochs of training have occurred, an increase in loss prior to \n",
        "10th iteration will not result in early termination. I did this purely\n",
        "for the purpose of showing > 3-4 epochs on the graph. Without the \n",
        "minimum iterations condition, training terminates after 4 epochs. '''\n"
      ],
      "execution_count": 199,
      "outputs": [
        {
          "output_type": "execute_result",
          "data": {
            "application/vnd.google.colaboratory.intrinsic+json": {
              "type": "string"
            },
            "text/plain": [
              "' Note: Since early termination condition does not initiate until at least \\n10 epochs of training have occurred, an increase in loss prior to \\n10th iteration will not result in early termination. I did this purely\\nfor the purpose of showing > 3-4 epochs on the graph. Without the \\nminimum iterations condition, training terminates after 4 epochs. '"
            ]
          },
          "metadata": {},
          "execution_count": 199
        },
        {
          "output_type": "display_data",
          "data": {
            "image/png": "[encoded data removed]",
            "text/plain": [
              "<Figure size 432x288 with 1 Axes>"
            ]
          },
          "metadata": {
            "needs_background": "light"
          }
        }
      ]
    },
    {
      "cell_type": "code",
      "metadata": {
        "colab": {
          "base_uri": "https://localhost:8080/"
        },
        "id": "RrCRwb77uuh7",
        "outputId": "96d0b3d6-7822-40d6-8a48-e3d5b26c3b9e"
      },
      "source": [
        "## Question 6: Accuracy on training, validation, and testing dataset \n",
        "\n",
        "\n",
        "# predict labels for test/valid/train data using trained regressor \n",
        "predictions_test2, labels_test2 = Logistic_Regression.predicted_output(X_test, trained_weights2, trained_bias2)\n",
        "predictions_valid2, labels_valid2 = Logistic_Regression.predicted_output(X_val,trained_weights2, trained_bias2)\n",
        "predictions_train2, labels_train2 = Logistic_Regression.predicted_output(X_train,trained_weights2, trained_bias2)\n",
        "# calculate accuracies for train/valid/test datasets \n",
        "accuracy_train = Logistic_Regression.accuracy(labels_train2, y_train)\n",
        "accuracy_valid = Logistic_Regression.accuracy(labels_valid2, y_val)\n",
        "accuracy_test = Logistic_Regression.accuracy(labels_test2, y_test)\n",
        "\n",
        "print('Training accuracy:', accuracy_train)\n",
        "print('Validation accuracy:', accuracy_valid)\n",
        "print('Testing accuracy:', accuracy_test)"
      ],
      "execution_count": 201,
      "outputs": [
        {
          "output_type": "stream",
          "name": "stdout",
          "text": [
            "Training accuracy: 0.8571428571428572\n",
            "Validation accuracy: 0.8125\n",
            "Testing accuracy: 0.9333333333333333\n"
          ]
        }
      ]
    }
  ]
}